{
 "cells": [
  {
   "cell_type": "code",
   "execution_count": null,
   "id": "0959ebe3",
   "metadata": {},
   "outputs": [
    {
     "name": "stdout",
     "output_type": "stream",
     "text": [
      "1\n",
      "4\n"
     ]
    }
   ],
   "source": [
    "T = int(input())\n",
    "for tc in range(1, T+1):\n",
    "    N = int(input())\n",
    "    arr = [[0] * N for _ in range(N)]\n",
    "\n",
    "    i = 0 #행\n",
    "    j = 0 #열\n",
    "    arr[0][0] = 1\n",
    "    x = 1 #이동거리 (~N*N까지)\n",
    "    di = [0,1,0,-1] # 우하좌상\n",
    "    dj = [1,0,-1,0]\n",
    "    d = 0 #di와 dj 인덱스 지정 (0~3까지 가짐) 일단 가장먼저 우측으로 이동하기때문에 0으로 초기값 설정\n",
    "\n",
    "    while x <= N*N:\n",
    "        ni, nj = i+di[d], j+dj[d]\n",
    "        if 0<= ni < N and 0<= nj < N and arr[i][j] == 0 : #유효범위 내에 있어야 한다.\n",
    "            x += 1\n",
    "            i, j = ni, nj\n",
    "            arr[i][j] = x\n",
    "\n",
    "        else: #범위 밖으로1 나가면 방향 바꿔야 함\n",
    "            d = (d + 1) % 4  # 우하좌상 한바퀴 돌면 direc 도 초기화 되어야 함. 0 1 2 3 0 1 2 3 0 1 2 3...\n",
    "\n",
    "    print(f'#{tc}')\n",
    "    for i in range(N):\n",
    "        for j in range(N):\n",
    "            print(arr[i][j], end=\" \")\n",
    "        print()\n"
   ]
  }
 ],
 "metadata": {
  "kernelspec": {
   "display_name": "Python 3 (ipykernel)",
   "language": "python",
   "name": "python3"
  },
  "language_info": {
   "codemirror_mode": {
    "name": "ipython",
    "version": 3
   },
   "file_extension": ".py",
   "mimetype": "text/x-python",
   "name": "python",
   "nbconvert_exporter": "python",
   "pygments_lexer": "ipython3",
   "version": "3.9.9"
  }
 },
 "nbformat": 4,
 "nbformat_minor": 5
}
